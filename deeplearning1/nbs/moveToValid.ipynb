{
 "cells": [
  {
   "cell_type": "code",
   "execution_count": 2,
   "metadata": {
    "collapsed": false
   },
   "outputs": [],
   "source": [
    "import random\n",
    "random = random.SystemRandom()"
   ]
  },
  {
   "cell_type": "code",
   "execution_count": 6,
   "metadata": {
    "collapsed": false
   },
   "outputs": [
    {
     "data": {
      "text/plain": [
       "37"
      ]
     },
     "execution_count": 6,
     "metadata": {},
     "output_type": "execute_result"
    }
   ],
   "source": [
    "random.randint(0,100)"
   ]
  },
  {
   "cell_type": "code",
   "execution_count": 41,
   "metadata": {
    "collapsed": false,
    "scrolled": false
   },
   "outputs": [
    {
     "name": "stdout",
     "output_type": "stream",
     "text": [
     ]
    }
   ],
   "source": [
    "import os\n",
    "import shutil\n",
    "root_path=\"data/dogs-vs-cats-redux-kernels-edition\"\n",
    "train_path=root_path+\"/train\"\n",
    "valid_path=root_path+\"/valid\"\n",
    "category=\"/dogs\"\n",
    "\n",
    "files=os.listdir(train_path+category)\n",
    "dest_count=len(os.listdir(valid_path+category))\n",
    "target_required=1000\n",
    "\n",
    "i = 1\n",
    "\n",
    "while (i < target_required - dest_count) and len(files) > 0:\n",
    "    index = random.randint(0, len(files)-1)\n",
    "    print(\"move \" + train_path + \"/\" + files[index] + \" \" + valid_path + \"/\" + files[index])\n",
    "    shutil.move(train_path + category + \"/\" + files[index], valid_path + category + \"/\" + files[index])\n",
    "    files=os.listdir(train_path+category)\n",
    "    i=i+1\n",
    "    \n",
    "dest_count=len(os.listdir(valid_path+category))\n",
    "print(\"%s count: %d\" % (valid_path+category, dest_count))\n",
    "\n",
    "\n"
   ]
  },
  {
   "cell_type": "code",
   "execution_count": null,
   "metadata": {
    "collapsed": true
   },
   "outputs": [],
   "source": []
  }
 ],
 "metadata": {
  "kernelspec": {
   "display_name": "Python [conda root]",
   "language": "python",
   "name": "conda-root-py"
  },
  "language_info": {
   "codemirror_mode": {
    "name": "ipython",
    "version": 2
   },
   "file_extension": ".py",
   "mimetype": "text/x-python",
   "name": "python",
   "nbconvert_exporter": "python",
   "pygments_lexer": "ipython2",
   "version": "2.7.13"
  }
 },
 "nbformat": 4,
 "nbformat_minor": 2
}
